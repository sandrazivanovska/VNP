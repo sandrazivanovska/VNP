{
  "nbformat": 4,
  "nbformat_minor": 0,
  "metadata": {
    "colab": {
      "provenance": []
    },
    "kernelspec": {
      "name": "python3",
      "display_name": "Python 3"
    },
    "language_info": {
      "name": "python"
    }
  },
  "cells": [
    {
      "cell_type": "markdown",
      "source": [
        "# Requirements"
      ],
      "metadata": {
        "id": "IG0xXF7T0x2h"
      }
    },
    {
      "cell_type": "code",
      "source": [
        "from selenium import webdriver\n",
        "from selenium.webdriver.common.by import By\n",
        "import pandas as pd\n",
        "from selenium.webdriver.support.ui import Select\n",
        "import matplotlib.pyplot as plt"
      ],
      "metadata": {
        "id": "k75Qsxvc0zzZ"
      },
      "execution_count": 17,
      "outputs": []
    },
    {
      "cell_type": "markdown",
      "source": [
        "# Configuration"
      ],
      "metadata": {
        "id": "OqXF3IZU00_g"
      }
    },
    {
      "cell_type": "code",
      "source": [
        "options = webdriver.ChromeOptions()\n",
        "options.add_argument('--headless')\n",
        "options.add_argument('--no-sandbox')\n",
        "options.add_argument('--disable-dev-shm-usage')"
      ],
      "metadata": {
        "id": "2MLM03DJ02TK"
      },
      "execution_count": 4,
      "outputs": []
    },
    {
      "cell_type": "markdown",
      "source": [
        "# Simple Usage"
      ],
      "metadata": {
        "id": "vhsS7FZU03uf"
      }
    },
    {
      "cell_type": "code",
      "source": [
        "# Initialize the webdriver.\n",
        "browser = webdriver.Chrome(options=options)"
      ],
      "metadata": {
        "id": "XAR-vEvw03hB"
      },
      "execution_count": 5,
      "outputs": []
    },
    {
      "cell_type": "code",
      "source": [
        "# Navigate to a web page.\n",
        "browser.get('https://www.apple.com/mk/')"
      ],
      "metadata": {
        "id": "SRlMjKmz05uN"
      },
      "execution_count": null,
      "outputs": []
    },
    {
      "cell_type": "code",
      "source": [
        "# Print the page source code.\n",
        "print(browser.page_source)"
      ],
      "metadata": {
        "id": "XENkqBtc07ql"
      },
      "execution_count": null,
      "outputs": []
    },
    {
      "cell_type": "code",
      "source": [
        "# Select an element from the page.\n",
        "element = browser.find_element(By.CLASS_NAME, 'headline')"
      ],
      "metadata": {
        "id": "j2IK2Ka408sg"
      },
      "execution_count": null,
      "outputs": []
    },
    {
      "cell_type": "code",
      "source": [
        "# Print the element's innner text.\n",
        "print(element.text)"
      ],
      "metadata": {
        "id": "ErxN591d09ul"
      },
      "execution_count": null,
      "outputs": []
    },
    {
      "cell_type": "markdown",
      "source": [
        "# Laboratory Exercise - Run Mode (8 points)"
      ],
      "metadata": {
        "id": "M9CVMKMx0-SY"
      }
    },
    {
      "cell_type": "markdown",
      "source": [
        "In this laboratory assignment, the goal is to perform web scraping using **Selenium** on the website https://www.scrapethissite.com/pages/forms/. The task includes the extraction of **hockey team names** and their **wins** and **losses** in the respective **year** for a minimum of 25 hockey teams. Following this data extraction, you will construct a data frame to organize the collected data. Finally, you are expected to generate a histogram to provide a visual representation of the distribution of wins and losses in the year 1990."
      ],
      "metadata": {
        "id": "dGHA83FS1Lqk"
      }
    },
    {
      "cell_type": "markdown",
      "source": [
        "## Hints\n",
        "- To navigate to a specific page with a given URL, use the `browser.get(url)` method.\n",
        "- When selecting a single element, use `browser.find_element`, and for multiple elements, use `browser.find_elements`. Both of these functions take two arguments. The first specifies the attribute used to locate the element on the web page, and the second specifies the value of that attribute.\n",
        "- The `By` class is used to specify which attribute is used to locate elements on a page. These are the various ways the attributes are used to locate elements on a page: `By.ID`, `By.NAME`, `By.TAG_NAME`, `BY.CLASS_NAME`, `By.CSS_SELECTOR`, etc.\n",
        "- For more details, check the documentation (https://selenium-python.readthedocs.io/locating-elements.html)."
      ],
      "metadata": {
        "id": "TMBGzB374oRM"
      }
    },
    {
      "cell_type": "markdown",
      "source": [
        "## Solution"
      ],
      "metadata": {
        "id": "MOV5K_ji5iQi"
      }
    },
    {
      "cell_type": "code",
      "source": [
        "url = 'https://www.scrapethissite.com/pages/forms/'\n",
        "browser.get(url)\n",
        "\n",
        "dropdown = Select(browser.find_element(By.ID, \"per_page\"))\n",
        "dropdown.select_by_value(\"100\")\n",
        "\n",
        "table = browser.find_element(By.CLASS_NAME, 'table')\n",
        "\n",
        "selected_columns = [0, 1, 2, 3]\n",
        "\n",
        "headers = [header.text for idx, header in enumerate(table.find_elements(By.TAG_NAME, 'th')) if idx in selected_columns]\n",
        "\n",
        "data = []\n",
        "for row in table.find_elements(By.TAG_NAME, 'tr')[1:]:\n",
        "    cells = row.find_elements(By.TAG_NAME, 'td')\n",
        "    selected_data = [cells[idx].text for idx in selected_columns if idx < len(cells)]\n",
        "    data.append(selected_data)\n",
        "\n",
        "dataFrame = pd.DataFrame(data, columns=headers)\n",
        "print(dataFrame)"
      ],
      "metadata": {
        "id": "Naeba0l31AVU",
        "colab": {
          "base_uri": "https://localhost:8080/"
        },
        "outputId": "ed6374ac-2ef7-41ee-99c2-beae898e60de"
      },
      "execution_count": 20,
      "outputs": [
        {
          "output_type": "stream",
          "name": "stdout",
          "text": [
            "             Team Name  Year Wins Losses\n",
            "0        Boston Bruins  1990   44     24\n",
            "1       Buffalo Sabres  1990   31     30\n",
            "2       Calgary Flames  1990   46     26\n",
            "3   Chicago Blackhawks  1990   49     23\n",
            "4    Detroit Red Wings  1990   34     38\n",
            "..                 ...   ...  ...    ...\n",
            "95      Buffalo Sabres  1994   22     19\n",
            "96      Calgary Flames  1994   24     17\n",
            "97  Chicago Blackhawks  1994   24     19\n",
            "98        Dallas Stars  1994   17     23\n",
            "99   Detroit Red Wings  1994   33     11\n",
            "\n",
            "[100 rows x 4 columns]\n"
          ]
        }
      ]
    },
    {
      "cell_type": "code",
      "source": [
        "dataFrame_1990 = dataFrame[dataFrame[\"Year\"] == '1990']\n",
        "plt.figure(figsize=(10, 6))\n",
        "plt.hist(dataFrame_1990[\"Wins\"], bins=10, alpha=0.5, label=\"Wins\")\n",
        "plt.hist(dataFrame_1990[\"Losses\"], bins=10, alpha=0.5, label=\"Losses\")\n",
        "plt.xlabel(\"Number of Wins/Losses\")\n",
        "plt.ylabel(\"Frequency\")\n",
        "plt.title(\"Distribution of Wins and Losses in 1990\")\n",
        "plt.show()"
      ],
      "metadata": {
        "id": "PFK34b5R5c0N",
        "colab": {
          "base_uri": "https://localhost:8080/",
          "height": 423
        },
        "outputId": "9dca69dd-5353-4977-84ae-6ceacb0f62a2"
      },
      "execution_count": 25,
      "outputs": [
        {
          "output_type": "display_data",
          "data": {
            "text/plain": [
              "<Figure size 1000x600 with 1 Axes>"
            ],
            "image/png": "[encoded data removed]"
          },
          "metadata": {}
        }
      ]
    },
    {
      "cell_type": "markdown",
      "source": [
        "# Laboratory Exercise - Bonus Task (+ 2 points)"
      ],
      "metadata": {
        "id": "oCkjUHg75fNe"
      }
    },
    {
      "cell_type": "markdown",
      "source": [
        "In the context of scraping the website https://www.scrapethissite.com/pages/forms/, the additional task involves searching for the hockey team 'Boston Bruins' using the available search field. You will extract the wins and losses data for this team covering the years from 1990 to 2011. After gathering this information, your task is to create a line plot where the wins and losses of the 'Boston Bruins' team are visualized across the years, displaying both trends on the same plot."
      ],
      "metadata": {
        "id": "t1qEBqeW8UJa"
      }
    },
    {
      "cell_type": "markdown",
      "source": [
        "## Hints\n",
        "- To populate an input field (`input_field`) with some `text` use `input_field.send_keys(text)`.\n",
        "- To click on a specific `element` on a web page use `element.click()`."
      ],
      "metadata": {
        "id": "DgXk1c4k-5dR"
      }
    },
    {
      "cell_type": "markdown",
      "source": [
        "## Solution"
      ],
      "metadata": {
        "id": "AXxIi7bv9lPw"
      }
    },
    {
      "cell_type": "code",
      "source": [
        "# Write your code here."
      ],
      "metadata": {
        "id": "ztX3X1pB5f4j"
      },
      "execution_count": null,
      "outputs": []
    },
    {
      "cell_type": "code",
      "source": [
        "# Add as many code boxes as you need."
      ],
      "metadata": {
        "id": "U-7KiLUF9hxp"
      },
      "execution_count": null,
      "outputs": []
    }
  ]
}